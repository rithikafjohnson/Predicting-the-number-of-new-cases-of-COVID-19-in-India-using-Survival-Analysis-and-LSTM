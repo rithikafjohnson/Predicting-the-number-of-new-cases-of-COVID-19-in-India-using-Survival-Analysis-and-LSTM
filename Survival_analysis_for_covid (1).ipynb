{
  "nbformat": 4,
  "nbformat_minor": 0,
  "metadata": {
    "colab": {
      "name": "Survival analysis for covid.ipynb",
      "provenance": []
    },
    "kernelspec": {
      "name": "python3",
      "display_name": "Python 3"
    }
  },
  "cells": [
    {
      "cell_type": "code",
      "metadata": {
        "id": "qoojx9BRJwpJ",
        "colab": {
          "base_uri": "https://localhost:8080/",
          "height": 350
        },
        "outputId": "88870fb8-3947-4224-a584-f7a5a3b868a2"
      },
      "source": [
        "import pandas as pd\r\n",
        "import matplotlib.pyplot as plt\r\n",
        "import seaborn as sns\r\n",
        "from lifelines import KaplanMeierFitter, CoxPHFitter \r\n",
        "import warnings\r\n",
        "import os\r\n",
        "\r\n",
        "from colorsetup import colors, palette\r\n",
        "sns.set_palette(palette)"
      ],
      "execution_count": 3,
      "outputs": [
        {
          "output_type": "error",
          "ename": "ModuleNotFoundError",
          "evalue": "ignored",
          "traceback": [
            "\u001b[0;31m---------------------------------------------------------------------------\u001b[0m",
            "\u001b[0;31mModuleNotFoundError\u001b[0m                       Traceback (most recent call last)",
            "\u001b[0;32m<ipython-input-3-e79b233bf07a>\u001b[0m in \u001b[0;36m<module>\u001b[0;34m()\u001b[0m\n\u001b[1;32m      6\u001b[0m \u001b[0;32mimport\u001b[0m \u001b[0mos\u001b[0m\u001b[0;34m\u001b[0m\u001b[0;34m\u001b[0m\u001b[0m\n\u001b[1;32m      7\u001b[0m \u001b[0;34m\u001b[0m\u001b[0m\n\u001b[0;32m----> 8\u001b[0;31m \u001b[0;32mfrom\u001b[0m \u001b[0mcolorsetup\u001b[0m \u001b[0;32mimport\u001b[0m \u001b[0mcolors\u001b[0m\u001b[0;34m,\u001b[0m \u001b[0mpalette\u001b[0m\u001b[0;34m\u001b[0m\u001b[0;34m\u001b[0m\u001b[0m\n\u001b[0m\u001b[1;32m      9\u001b[0m \u001b[0msns\u001b[0m\u001b[0;34m.\u001b[0m\u001b[0mset_palette\u001b[0m\u001b[0;34m(\u001b[0m\u001b[0mpalette\u001b[0m\u001b[0;34m)\u001b[0m\u001b[0;34m\u001b[0m\u001b[0;34m\u001b[0m\u001b[0m\n",
            "\u001b[0;31mModuleNotFoundError\u001b[0m: No module named 'colorsetup'",
            "",
            "\u001b[0;31m---------------------------------------------------------------------------\u001b[0;32m\nNOTE: If your import is failing due to a missing package, you can\nmanually install dependencies using either !pip or !apt.\n\nTo view examples of installing some common dependencies, click the\n\"Open Examples\" button below.\n\u001b[0;31m---------------------------------------------------------------------------\u001b[0m\n"
          ]
        }
      ]
    },
    {
      "cell_type": "code",
      "metadata": {
        "colab": {
          "base_uri": "https://localhost:8080/"
        },
        "id": "SwKF70kFXLDU",
        "outputId": "585a6524-a3e1-48e0-d533-7b5c7fd7a9e9"
      },
      "source": [
        "!pip install lifelines"
      ],
      "execution_count": 2,
      "outputs": [
        {
          "output_type": "stream",
          "text": [
            "Collecting lifelines\n",
            "\u001b[?25l  Downloading https://files.pythonhosted.org/packages/80/75/5425e87009b69a5cfd8ad1104ee9b979e22beffd156b2409f4c771eda402/lifelines-0.25.7-py3-none-any.whl (347kB)\n",
            "\r\u001b[K     |█                               | 10kB 13.5MB/s eta 0:00:01\r\u001b[K     |█▉                              | 20kB 18.6MB/s eta 0:00:01\r\u001b[K     |██▉                             | 30kB 13.8MB/s eta 0:00:01\r\u001b[K     |███▊                            | 40kB 9.7MB/s eta 0:00:01\r\u001b[K     |████▊                           | 51kB 5.4MB/s eta 0:00:01\r\u001b[K     |█████▋                          | 61kB 5.6MB/s eta 0:00:01\r\u001b[K     |██████▋                         | 71kB 5.6MB/s eta 0:00:01\r\u001b[K     |███████▌                        | 81kB 6.1MB/s eta 0:00:01\r\u001b[K     |████████▌                       | 92kB 6.3MB/s eta 0:00:01\r\u001b[K     |█████████▍                      | 102kB 6.5MB/s eta 0:00:01\r\u001b[K     |██████████▍                     | 112kB 6.5MB/s eta 0:00:01\r\u001b[K     |███████████▎                    | 122kB 6.5MB/s eta 0:00:01\r\u001b[K     |████████████▎                   | 133kB 6.5MB/s eta 0:00:01\r\u001b[K     |█████████████▏                  | 143kB 6.5MB/s eta 0:00:01\r\u001b[K     |██████████████▏                 | 153kB 6.5MB/s eta 0:00:01\r\u001b[K     |███████████████                 | 163kB 6.5MB/s eta 0:00:01\r\u001b[K     |████████████████                | 174kB 6.5MB/s eta 0:00:01\r\u001b[K     |█████████████████               | 184kB 6.5MB/s eta 0:00:01\r\u001b[K     |██████████████████              | 194kB 6.5MB/s eta 0:00:01\r\u001b[K     |██████████████████▉             | 204kB 6.5MB/s eta 0:00:01\r\u001b[K     |███████████████████▉            | 215kB 6.5MB/s eta 0:00:01\r\u001b[K     |████████████████████▊           | 225kB 6.5MB/s eta 0:00:01\r\u001b[K     |█████████████████████▊          | 235kB 6.5MB/s eta 0:00:01\r\u001b[K     |██████████████████████▋         | 245kB 6.5MB/s eta 0:00:01\r\u001b[K     |███████████████████████▋        | 256kB 6.5MB/s eta 0:00:01\r\u001b[K     |████████████████████████▌       | 266kB 6.5MB/s eta 0:00:01\r\u001b[K     |█████████████████████████▌      | 276kB 6.5MB/s eta 0:00:01\r\u001b[K     |██████████████████████████▍     | 286kB 6.5MB/s eta 0:00:01\r\u001b[K     |███████████████████████████▍    | 296kB 6.5MB/s eta 0:00:01\r\u001b[K     |████████████████████████████▎   | 307kB 6.5MB/s eta 0:00:01\r\u001b[K     |█████████████████████████████▏  | 317kB 6.5MB/s eta 0:00:01\r\u001b[K     |██████████████████████████████▏ | 327kB 6.5MB/s eta 0:00:01\r\u001b[K     |███████████████████████████████ | 337kB 6.5MB/s eta 0:00:01\r\u001b[K     |████████████████████████████████| 348kB 6.5MB/s \n",
            "\u001b[?25hRequirement already satisfied: numpy>=1.14.0 in /usr/local/lib/python3.6/dist-packages (from lifelines) (1.19.4)\n",
            "Requirement already satisfied: patsy>=0.5.0 in /usr/local/lib/python3.6/dist-packages (from lifelines) (0.5.1)\n",
            "Requirement already satisfied: matplotlib>=3.0 in /usr/local/lib/python3.6/dist-packages (from lifelines) (3.2.2)\n",
            "Requirement already satisfied: pandas>=0.23.0 in /usr/local/lib/python3.6/dist-packages (from lifelines) (1.1.5)\n",
            "Requirement already satisfied: autograd>=1.3 in /usr/local/lib/python3.6/dist-packages (from lifelines) (1.3)\n",
            "Collecting autograd-gamma>=0.3\n",
            "  Downloading https://files.pythonhosted.org/packages/85/ae/7f2031ea76140444b2453fa139041e5afd4a09fc5300cfefeb1103291f80/autograd-gamma-0.5.0.tar.gz\n",
            "Requirement already satisfied: scipy>=1.2.0 in /usr/local/lib/python3.6/dist-packages (from lifelines) (1.4.1)\n",
            "Requirement already satisfied: six in /usr/local/lib/python3.6/dist-packages (from patsy>=0.5.0->lifelines) (1.15.0)\n",
            "Requirement already satisfied: kiwisolver>=1.0.1 in /usr/local/lib/python3.6/dist-packages (from matplotlib>=3.0->lifelines) (1.3.1)\n",
            "Requirement already satisfied: pyparsing!=2.0.4,!=2.1.2,!=2.1.6,>=2.0.1 in /usr/local/lib/python3.6/dist-packages (from matplotlib>=3.0->lifelines) (2.4.7)\n",
            "Requirement already satisfied: python-dateutil>=2.1 in /usr/local/lib/python3.6/dist-packages (from matplotlib>=3.0->lifelines) (2.8.1)\n",
            "Requirement already satisfied: cycler>=0.10 in /usr/local/lib/python3.6/dist-packages (from matplotlib>=3.0->lifelines) (0.10.0)\n",
            "Requirement already satisfied: pytz>=2017.2 in /usr/local/lib/python3.6/dist-packages (from pandas>=0.23.0->lifelines) (2018.9)\n",
            "Requirement already satisfied: future>=0.15.2 in /usr/local/lib/python3.6/dist-packages (from autograd>=1.3->lifelines) (0.16.0)\n",
            "Building wheels for collected packages: autograd-gamma\n",
            "  Building wheel for autograd-gamma (setup.py) ... \u001b[?25l\u001b[?25hdone\n",
            "  Created wheel for autograd-gamma: filename=autograd_gamma-0.5.0-cp36-none-any.whl size=4035 sha256=6d171c5303c966536ebe83b63a687f775fbc61159e72c2e8936fc6128df0c77b\n",
            "  Stored in directory: /root/.cache/pip/wheels/dc/68/dc/91321c55fba449755524481854f5be70d41912b8f886f908bb\n",
            "Successfully built autograd-gamma\n",
            "Installing collected packages: autograd-gamma, lifelines\n",
            "Successfully installed autograd-gamma-0.5.0 lifelines-0.25.7\n"
          ],
          "name": "stdout"
        }
      ]
    },
    {
      "cell_type": "code",
      "metadata": {
        "colab": {
          "base_uri": "https://localhost:8080/",
          "height": 419
        },
        "id": "oYjj5KqBT3n9",
        "outputId": "0101c8f4-d620-48ea-8436-5469536c673e"
      },
      "source": [
        "df = pd.read_csv('finaldataset1.csv')\r\n",
        "df"
      ],
      "execution_count": 4,
      "outputs": [
        {
          "output_type": "execute_result",
          "data": {
            "text/html": [
              "<div>\n",
              "<style scoped>\n",
              "    .dataframe tbody tr th:only-of-type {\n",
              "        vertical-align: middle;\n",
              "    }\n",
              "\n",
              "    .dataframe tbody tr th {\n",
              "        vertical-align: top;\n",
              "    }\n",
              "\n",
              "    .dataframe thead th {\n",
              "        text-align: right;\n",
              "    }\n",
              "</style>\n",
              "<table border=\"1\" class=\"dataframe\">\n",
              "  <thead>\n",
              "    <tr style=\"text-align: right;\">\n",
              "      <th></th>\n",
              "      <th>location</th>\n",
              "      <th>day</th>\n",
              "      <th>total cases</th>\n",
              "      <th>avg_new/total</th>\n",
              "      <th>growth rate</th>\n",
              "      <th>population density</th>\n",
              "      <th>avg_new cases</th>\n",
              "      <th>status</th>\n",
              "    </tr>\n",
              "  </thead>\n",
              "  <tbody>\n",
              "    <tr>\n",
              "      <th>0</th>\n",
              "      <td>Australia</td>\n",
              "      <td>30</td>\n",
              "      <td>15</td>\n",
              "      <td>0.033333</td>\n",
              "      <td>0.094000</td>\n",
              "      <td>0</td>\n",
              "      <td>0.500000</td>\n",
              "      <td>1</td>\n",
              "    </tr>\n",
              "    <tr>\n",
              "      <th>1</th>\n",
              "      <td>Australia</td>\n",
              "      <td>60</td>\n",
              "      <td>1682</td>\n",
              "      <td>0.031968</td>\n",
              "      <td>0.170374</td>\n",
              "      <td>0</td>\n",
              "      <td>53.770000</td>\n",
              "      <td>1</td>\n",
              "    </tr>\n",
              "    <tr>\n",
              "      <th>2</th>\n",
              "      <td>Australia</td>\n",
              "      <td>90</td>\n",
              "      <td>6652</td>\n",
              "      <td>0.024905</td>\n",
              "      <td>0.046898</td>\n",
              "      <td>0</td>\n",
              "      <td>165.670000</td>\n",
              "      <td>0</td>\n",
              "    </tr>\n",
              "    <tr>\n",
              "      <th>3</th>\n",
              "      <td>Australia</td>\n",
              "      <td>120</td>\n",
              "      <td>7099</td>\n",
              "      <td>0.002099</td>\n",
              "      <td>0.002170</td>\n",
              "      <td>0</td>\n",
              "      <td>14.900000</td>\n",
              "      <td>0</td>\n",
              "    </tr>\n",
              "    <tr>\n",
              "      <th>4</th>\n",
              "      <td>Australia</td>\n",
              "      <td>150</td>\n",
              "      <td>7474</td>\n",
              "      <td>0.001672</td>\n",
              "      <td>0.001717</td>\n",
              "      <td>0</td>\n",
              "      <td>12.500000</td>\n",
              "      <td>0</td>\n",
              "    </tr>\n",
              "    <tr>\n",
              "      <th>...</th>\n",
              "      <td>...</td>\n",
              "      <td>...</td>\n",
              "      <td>...</td>\n",
              "      <td>...</td>\n",
              "      <td>...</td>\n",
              "      <td>...</td>\n",
              "      <td>...</td>\n",
              "      <td>...</td>\n",
              "    </tr>\n",
              "    <tr>\n",
              "      <th>125</th>\n",
              "      <td>Nepal</td>\n",
              "      <td>180</td>\n",
              "      <td>17844</td>\n",
              "      <td>0.017259</td>\n",
              "      <td>0.024609</td>\n",
              "      <td>1</td>\n",
              "      <td>307.966667</td>\n",
              "      <td>1</td>\n",
              "    </tr>\n",
              "    <tr>\n",
              "      <th>126</th>\n",
              "      <td>Nepal</td>\n",
              "      <td>210</td>\n",
              "      <td>28938</td>\n",
              "      <td>0.012779</td>\n",
              "      <td>0.016247</td>\n",
              "      <td>1</td>\n",
              "      <td>369.800000</td>\n",
              "      <td>1</td>\n",
              "    </tr>\n",
              "    <tr>\n",
              "      <th>127</th>\n",
              "      <td>Nepal</td>\n",
              "      <td>240</td>\n",
              "      <td>61593</td>\n",
              "      <td>0.017672</td>\n",
              "      <td>0.025499</td>\n",
              "      <td>1</td>\n",
              "      <td>1088.500000</td>\n",
              "      <td>1</td>\n",
              "    </tr>\n",
              "    <tr>\n",
              "      <th>128</th>\n",
              "      <td>Nepal</td>\n",
              "      <td>270</td>\n",
              "      <td>132246</td>\n",
              "      <td>0.017808</td>\n",
              "      <td>0.025798</td>\n",
              "      <td>1</td>\n",
              "      <td>2355.100000</td>\n",
              "      <td>1</td>\n",
              "    </tr>\n",
              "    <tr>\n",
              "      <th>129</th>\n",
              "      <td>Nepal</td>\n",
              "      <td>300</td>\n",
              "      <td>211475</td>\n",
              "      <td>0.012488</td>\n",
              "      <td>0.015771</td>\n",
              "      <td>1</td>\n",
              "      <td>2640.966667</td>\n",
              "      <td>1</td>\n",
              "    </tr>\n",
              "  </tbody>\n",
              "</table>\n",
              "<p>130 rows × 8 columns</p>\n",
              "</div>"
            ],
            "text/plain": [
              "      location  day  total cases  ...  population density  avg_new cases  status\n",
              "0    Australia   30           15  ...                   0       0.500000       1\n",
              "1    Australia   60         1682  ...                   0      53.770000       1\n",
              "2    Australia   90         6652  ...                   0     165.670000       0\n",
              "3    Australia  120         7099  ...                   0      14.900000       0\n",
              "4    Australia  150         7474  ...                   0      12.500000       0\n",
              "..         ...  ...          ...  ...                 ...            ...     ...\n",
              "125      Nepal  180        17844  ...                   1     307.966667       1\n",
              "126      Nepal  210        28938  ...                   1     369.800000       1\n",
              "127      Nepal  240        61593  ...                   1    1088.500000       1\n",
              "128      Nepal  270       132246  ...                   1    2355.100000       1\n",
              "129      Nepal  300       211475  ...                   1    2640.966667       1\n",
              "\n",
              "[130 rows x 8 columns]"
            ]
          },
          "metadata": {
            "tags": []
          },
          "execution_count": 4
        }
      ]
    },
    {
      "cell_type": "code",
      "metadata": {
        "id": "AkfMNQ2MT-CU"
      },
      "source": [
        "dfu = df[['day','growth rate','avg_new/total','population density','status']]\r\n",
        "dfd = pd.get_dummies(dfu, drop_first=True)\r\n",
        "dfd['day'] = df.day\r\n",
        "dfd.rename(columns={'population density':'Pden'}, inplace=True)"
      ],
      "execution_count": 8,
      "outputs": []
    },
    {
      "cell_type": "code",
      "metadata": {
        "colab": {
          "base_uri": "https://localhost:8080/"
        },
        "id": "IpsG0w2tUH_u",
        "outputId": "f8414176-28d2-4527-aef8-d28ae0ce05e6"
      },
      "source": [
        "cph = CoxPHFitter()\r\n",
        "cph.fit(dfd, duration_col='day', event_col='status')\r\n",
        "cph.print_summary(style='ascii')"
      ],
      "execution_count": 9,
      "outputs": [
        {
          "output_type": "stream",
          "text": [
            "<lifelines.CoxPHFitter: fitted with 130 total observations, 38 right-censored observations>\n",
            "             duration col = 'day'\n",
            "                event col = 'status'\n",
            "      baseline estimation = breslow\n",
            "   number of observations = 130\n",
            "number of events observed = 92\n",
            "   partial log-likelihood = -296.89\n",
            "         time fit was run = 2020-12-22 20:08:39 UTC\n",
            "\n",
            "---\n",
            "                coef  exp(coef)   se(coef)   coef lower 95%   coef upper 95%  exp(coef) lower 95%  exp(coef) upper 95%\n",
            "covariate                                                                                                             \n",
            "growth rate     7.24    1397.40       2.68             1.99            12.49                 7.34             2.66e+05\n",
            "avg_new/total 121.75   7.52e+52      17.92            86.63           156.87             4.22e+37             1.34e+68\n",
            "total cases    -0.00       1.00       0.00            -0.00            -0.00                 1.00                 1.00\n",
            "Pden           -0.30       0.74       0.23            -0.75             0.14                 0.47                 1.15\n",
            "\n",
            "                  z      p   -log2(p)\n",
            "covariate                            \n",
            "growth rate    2.70   0.01       7.19\n",
            "avg_new/total  6.80 <0.005      36.43\n",
            "total cases   -2.97 <0.005       8.37\n",
            "Pden          -1.34   0.18       2.46\n",
            "---\n",
            "Concordance = 0.88\n",
            "Partial AIC = 601.78\n",
            "log-likelihood ratio test = 151.78 on 4 df\n",
            "-log2(p) of ll-ratio test = 103.22\n",
            "\n"
          ],
          "name": "stdout"
        }
      ]
    },
    {
      "cell_type": "code",
      "metadata": {
        "colab": {
          "base_uri": "https://localhost:8080/",
          "height": 296
        },
        "id": "HRR9-7t-UNGx",
        "outputId": "e0e96f88-c62b-4eb9-e99e-ac1d32a888b6"
      },
      "source": [
        "cph.plot()"
      ],
      "execution_count": 7,
      "outputs": [
        {
          "output_type": "execute_result",
          "data": {
            "text/plain": [
              "<matplotlib.axes._subplots.AxesSubplot at 0x7fc71d474b00>"
            ]
          },
          "metadata": {
            "tags": []
          },
          "execution_count": 7
        },
        {
          "output_type": "display_data",
          "data": {
            "image/png": "[encoded data removed]",
            "text/plain": [
              "<Figure size 432x288 with 1 Axes>"
            ]
          },
          "metadata": {
            "tags": [],
            "needs_background": "light"
          }
        }
      ]
    }
  ]
}